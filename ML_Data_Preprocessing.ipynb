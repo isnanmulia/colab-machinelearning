{
  "nbformat": 4,
  "nbformat_minor": 0,
  "metadata": {
    "colab": {
      "provenance": [],
      "authorship_tag": "ABX9TyMQY2Iyg33fO1qckCTVBJ9W",
      "include_colab_link": true
    },
    "kernelspec": {
      "name": "python3",
      "display_name": "Python 3"
    },
    "language_info": {
      "name": "python"
    }
  },
  "cells": [
    {
      "cell_type": "markdown",
      "metadata": {
        "id": "view-in-github",
        "colab_type": "text"
      },
      "source": [
        "<a href=\"https://colab.research.google.com/github/isnanmulia/colab-machinelearning/blob/main/ML_Data_Preprocessing.ipynb\" target=\"_parent\"><img src=\"https://colab.research.google.com/assets/colab-badge.svg\" alt=\"Open In Colab\"/></a>"
      ]
    },
    {
      "cell_type": "code",
      "source": [
        "# Importing libraries\n",
        "import numpy as np\n",
        "import pandas as pd\n",
        "from sklearn.preprocessing import MinMaxScaler\n",
        "from sklearn.impute import SimpleImputer"
      ],
      "metadata": {
        "id": "VIlOCl1edv7t"
      },
      "execution_count": 44,
      "outputs": []
    },
    {
      "cell_type": "code",
      "execution_count": 13,
      "metadata": {
        "id": "wuFRZfNpGM02",
        "colab": {
          "base_uri": "https://localhost:8080/"
        },
        "outputId": "06d7bdf3-c4c0-487a-abbe-136a4f1400a6"
      },
      "outputs": [
        {
          "output_type": "stream",
          "name": "stdout",
          "text": [
            "       sepal-length  sepal-width  petal-length  petal-width\n",
            "count    150.000000   150.000000    150.000000   150.000000\n",
            "mean       5.843333     3.054000      3.758667     1.198667\n",
            "std        0.828066     0.433594      1.764420     0.763161\n",
            "min        4.300000     2.000000      1.000000     0.100000\n",
            "25%        5.100000     2.800000      1.600000     0.300000\n",
            "50%        5.800000     3.000000      4.350000     1.300000\n",
            "75%        6.400000     3.300000      5.100000     1.800000\n",
            "max        7.900000     4.400000      6.900000     2.500000\n"
          ]
        }
      ],
      "source": [
        "# Loading dataset\n",
        "url = 'https://raw.githubusercontent.com/jbrownlee/Datasets/master/iris.csv'\n",
        "names = ['sepal-length','sepal-width','petal-length','petal-width','class']\n",
        "dataset = pd.read_csv(url, names=names)\n",
        "# print(dataset.describe())\n",
        "dataset_attr = dataset[['sepal-length','sepal-width','petal-length','petal-width']]\n",
        "print(dataset_attr.describe())"
      ]
    },
    {
      "cell_type": "code",
      "source": [
        "# Loading dataset with missing values\n",
        "url = 'https://raw.githubusercontent.com/isnanmulia/lecture-datasets/main/iris10_missing.csv'\n",
        "names = ['sepal-length','sepal-width','petal-length','petal-width','class']\n",
        "data_missing = pd.read_csv(url, names=names)\n",
        "print(data_missing)\n",
        "data_missing.isna().sum()"
      ],
      "metadata": {
        "colab": {
          "base_uri": "https://localhost:8080/"
        },
        "id": "YUspqpmll88e",
        "outputId": "b11534ab-a660-4249-ac74-0647cc1d33cf"
      },
      "execution_count": 36,
      "outputs": [
        {
          "output_type": "stream",
          "name": "stdout",
          "text": [
            "   sepal-length  sepal-width  petal-length  petal-width        class\n",
            "0           NaN          3.5           1.4          0.2  Iris-setosa\n",
            "1           4.9          3.0           NaN          0.2  Iris-setosa\n",
            "2           4.7          3.2           1.3          0.2  Iris-setosa\n",
            "3           4.6          3.1           1.5          0.2  Iris-setosa\n",
            "4           5.0          NaN           1.4          0.2  Iris-setosa\n",
            "5           5.4          3.9           1.7          0.4  Iris-setosa\n",
            "6           4.6          NaN           1.4          0.3  Iris-setosa\n",
            "7           5.0          3.4           1.5          0.2  Iris-setosa\n",
            "8           4.4          NaN           1.4          0.2  Iris-setosa\n",
            "9           4.9          3.1           NaN          0.1  Iris-setosa\n"
          ]
        },
        {
          "output_type": "execute_result",
          "data": {
            "text/plain": [
              "sepal-length    1\n",
              "sepal-width     3\n",
              "petal-length    2\n",
              "petal-width     0\n",
              "class           0\n",
              "dtype: int64"
            ]
          },
          "metadata": {},
          "execution_count": 36
        }
      ]
    },
    {
      "cell_type": "code",
      "source": [
        "# Handling missing values\n",
        "imputer = SimpleImputer(fill_value=np.nan, strategy='mean')\n",
        "data_missing_attr = data_missing[['sepal-length','sepal-width','petal-length','petal-width']]\n",
        "X = imputer.fit_transform(data_missing_attr)\n",
        "X = pd.DataFrame(X, columns=data_missing_attr.columns)\n",
        "print(X)"
      ],
      "metadata": {
        "colab": {
          "base_uri": "https://localhost:8080/"
        },
        "id": "lh151IkOuFpI",
        "outputId": "69022b51-6306-45e6-9b21-f0d258af9ea6"
      },
      "execution_count": 47,
      "outputs": [
        {
          "output_type": "stream",
          "name": "stdout",
          "text": [
            "   sepal-length  sepal-width  petal-length  petal-width\n",
            "0      4.833333     3.500000          1.40          0.2\n",
            "1      4.900000     3.000000          1.45          0.2\n",
            "2      4.700000     3.200000          1.30          0.2\n",
            "3      4.600000     3.100000          1.50          0.2\n",
            "4      5.000000     3.314286          1.40          0.2\n",
            "5      5.400000     3.900000          1.70          0.4\n",
            "6      4.600000     3.314286          1.40          0.3\n",
            "7      5.000000     3.400000          1.50          0.2\n",
            "8      4.400000     3.314286          1.40          0.2\n",
            "9      4.900000     3.100000          1.45          0.1\n"
          ]
        }
      ]
    },
    {
      "cell_type": "code",
      "source": [
        "# Sampling\n",
        "# Simple Random Sampling\n",
        "data_sampling = dataset.sample(n = 10, replace=True)\n",
        "# data_sampling = dataset.sample(frac = 0.3)\n",
        "print(data_sampling.head(10))\n",
        "\n",
        "# Stratified sampling\n",
        "# data_sampling_stratified = dataset.groupby('class', group_keys=False).apply(lambda x: x.sample(5))\n",
        "# data_sampling_stratified = dataset.groupby('class', group_keys=False).apply(lambda x: x.sample(frac=0.1))\n",
        "# print(data_sampling_stratified.head(20))"
      ],
      "metadata": {
        "colab": {
          "base_uri": "https://localhost:8080/"
        },
        "id": "tkoJ-gJA72CD",
        "outputId": "8a41d4a8-3f7b-4f26-9728-4bb67c6a6600"
      },
      "execution_count": 86,
      "outputs": [
        {
          "output_type": "stream",
          "name": "stdout",
          "text": [
            "     sepal-length  sepal-width  petal-length  petal-width            class\n",
            "78            6.0          2.9           4.5          1.5  Iris-versicolor\n",
            "140           6.7          3.1           5.6          2.4   Iris-virginica\n",
            "76            6.8          2.8           4.8          1.4  Iris-versicolor\n",
            "78            6.0          2.9           4.5          1.5  Iris-versicolor\n",
            "59            5.2          2.7           3.9          1.4  Iris-versicolor\n",
            "140           6.7          3.1           5.6          2.4   Iris-virginica\n",
            "39            5.1          3.4           1.5          0.2      Iris-setosa\n",
            "125           7.2          3.2           6.0          1.8   Iris-virginica\n",
            "144           6.7          3.3           5.7          2.5   Iris-virginica\n",
            "130           7.4          2.8           6.1          1.9   Iris-virginica\n"
          ]
        }
      ]
    },
    {
      "cell_type": "code",
      "source": [
        "# Scaling the attribute values\n",
        "scaler = MinMaxScaler(feature_range = (0, 1))\n",
        "scaled_dataset = scaler.fit_transform(dataset_attr)\n",
        "print(dataset_attr.head(5))\n",
        "scaled_dataset[:5,:]"
      ],
      "metadata": {
        "colab": {
          "base_uri": "https://localhost:8080/"
        },
        "id": "X9LNUHHSdtj_",
        "outputId": "c091be05-f714-4ae9-a596-280282fba3be"
      },
      "execution_count": 26,
      "outputs": [
        {
          "output_type": "stream",
          "name": "stdout",
          "text": [
            "   sepal-length  sepal-width  petal-length  petal-width\n",
            "0           5.1          3.5           1.4          0.2\n",
            "1           4.9          3.0           1.4          0.2\n",
            "2           4.7          3.2           1.3          0.2\n",
            "3           4.6          3.1           1.5          0.2\n",
            "4           5.0          3.6           1.4          0.2\n"
          ]
        },
        {
          "output_type": "execute_result",
          "data": {
            "text/plain": [
              "array([[0.22222222, 0.625     , 0.06779661, 0.04166667],\n",
              "       [0.16666667, 0.41666667, 0.06779661, 0.04166667],\n",
              "       [0.11111111, 0.5       , 0.05084746, 0.04166667],\n",
              "       [0.08333333, 0.45833333, 0.08474576, 0.04166667],\n",
              "       [0.19444444, 0.66666667, 0.06779661, 0.04166667]])"
            ]
          },
          "metadata": {},
          "execution_count": 26
        }
      ]
    },
    {
      "cell_type": "code",
      "source": [
        "# Binning/discretization\n",
        "dataset_bin = dataset_attr[['sepal-width']]\n",
        "bins = np.linspace(min(dataset_bin['sepal-width']), max(dataset_bin['sepal-width']), 4)\n",
        "labels = ['A', 'B', 'C']\n",
        "\n",
        "# Equal-width binning\n",
        "X1 = pd.cut(dataset_bin['sepal-width'], bins)\n",
        "X2 = pd.cut(dataset_bin['sepal-width'], bins, labels=labels)\n",
        "# Equal-frequency binning\n",
        "Y1 = pd.qcut(dataset_bin['sepal-width'], 3)\n",
        "Y2 = pd.qcut(dataset_bin['sepal-width'], 3, labels=labels)\n",
        "\n",
        "dataset_bin = dataset_bin.assign(EqWidthNoLabel=X1)\n",
        "dataset_bin = dataset_bin.assign(EqWidthLabel=X2)\n",
        "dataset_bin = dataset_bin.assign(EqFreqNoLabel=Y1)\n",
        "dataset_bin = dataset_bin.assign(EqFreqLabel=Y2)\n",
        "print(dataset_bin.head(20))"
      ],
      "metadata": {
        "colab": {
          "base_uri": "https://localhost:8080/"
        },
        "id": "Sc7V7uu_x00a",
        "outputId": "af1f55cd-9fd2-411f-86bd-fd8eb51bd392"
      },
      "execution_count": 73,
      "outputs": [
        {
          "output_type": "stream",
          "name": "stdout",
          "text": [
            "    sepal-width EqWidthNoLabel EqWidthLabel EqFreqNoLabel EqFreqLabel\n",
            "0           3.5     (2.8, 3.6]            B    (3.2, 4.4]           C\n",
            "1           3.0     (2.8, 3.6]            B    (2.9, 3.2]           B\n",
            "2           3.2     (2.8, 3.6]            B    (2.9, 3.2]           B\n",
            "3           3.1     (2.8, 3.6]            B    (2.9, 3.2]           B\n",
            "4           3.6     (2.8, 3.6]            B    (3.2, 4.4]           C\n",
            "5           3.9     (3.6, 4.4]            C    (3.2, 4.4]           C\n",
            "6           3.4     (2.8, 3.6]            B    (3.2, 4.4]           C\n",
            "7           3.4     (2.8, 3.6]            B    (3.2, 4.4]           C\n",
            "8           2.9     (2.8, 3.6]            B  (1.999, 2.9]           A\n",
            "9           3.1     (2.8, 3.6]            B    (2.9, 3.2]           B\n",
            "10          3.7     (3.6, 4.4]            C    (3.2, 4.4]           C\n",
            "11          3.4     (2.8, 3.6]            B    (3.2, 4.4]           C\n",
            "12          3.0     (2.8, 3.6]            B    (2.9, 3.2]           B\n",
            "13          3.0     (2.8, 3.6]            B    (2.9, 3.2]           B\n",
            "14          4.0     (3.6, 4.4]            C    (3.2, 4.4]           C\n",
            "15          4.4     (3.6, 4.4]            C    (3.2, 4.4]           C\n",
            "16          3.9     (3.6, 4.4]            C    (3.2, 4.4]           C\n",
            "17          3.5     (2.8, 3.6]            B    (3.2, 4.4]           C\n",
            "18          3.8     (3.6, 4.4]            C    (3.2, 4.4]           C\n",
            "19          3.8     (3.6, 4.4]            C    (3.2, 4.4]           C\n"
          ]
        }
      ]
    }
  ]
}