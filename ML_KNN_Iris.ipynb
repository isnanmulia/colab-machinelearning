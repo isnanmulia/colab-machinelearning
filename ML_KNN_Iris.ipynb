{
  "nbformat": 4,
  "nbformat_minor": 0,
  "metadata": {
    "colab": {
      "provenance": [],
      "authorship_tag": "ABX9TyPZ/36lmqEQzJms6E5DprMD",
      "include_colab_link": true
    },
    "kernelspec": {
      "name": "python3",
      "display_name": "Python 3"
    },
    "language_info": {
      "name": "python"
    }
  },
  "cells": [
    {
      "cell_type": "markdown",
      "metadata": {
        "id": "view-in-github",
        "colab_type": "text"
      },
      "source": [
        "<a href=\"https://colab.research.google.com/github/isnanmulia/colab-machinelearning/blob/main/ML_KNN_Iris.ipynb\" target=\"_parent\"><img src=\"https://colab.research.google.com/assets/colab-badge.svg\" alt=\"Open In Colab\"/></a>"
      ]
    },
    {
      "cell_type": "markdown",
      "source": [
        "This tutorial uses codes from these sources, with several adjustments:\n",
        "- https://www.geeksforgeeks.org/multiclass-classification-using-scikit-learn/\n"
      ],
      "metadata": {
        "id": "-HG6HsuZ6fNW"
      }
    },
    {
      "cell_type": "code",
      "execution_count": 7,
      "metadata": {
        "id": "ML1DG28G6NEx"
      },
      "outputs": [],
      "source": [
        "# Loading the libraries\n",
        "from sklearn import datasets\n",
        "from sklearn.metrics import confusion_matrix\n",
        "from sklearn.model_selection import train_test_split\n",
        "from sklearn.neighbors import KNeighborsClassifier"
      ]
    },
    {
      "cell_type": "code",
      "source": [
        "# Loading the iris dataset\n",
        "iris = datasets.load_iris()\n",
        "\n",
        "# X -> features, y -> label\n",
        "X = iris.data\n",
        "y = iris.target\n",
        "\n",
        "# dividing X, y into train and test data\n",
        "X_train, X_test, y_train, y_test = train_test_split(X, y, random_state = 0)\n",
        "\n",
        "print(X_train.shape)\n",
        "print(y_train.shape)\n",
        "print(X_test.shape)\n",
        "print(y_test.shape)"
      ],
      "metadata": {
        "colab": {
          "base_uri": "https://localhost:8080/"
        },
        "id": "a0SekrEX6r37",
        "outputId": "c95a751e-a378-4e86-fe28-e14c79f97eaa"
      },
      "execution_count": 8,
      "outputs": [
        {
          "output_type": "stream",
          "name": "stdout",
          "text": [
            "(112, 4)\n",
            "(112,)\n",
            "(38, 4)\n",
            "(38,)\n"
          ]
        }
      ]
    },
    {
      "cell_type": "code",
      "source": [
        "# Training a KNN classifier\n",
        "knn = KNeighborsClassifier().fit(X_train, y_train)"
      ],
      "metadata": {
        "id": "kvlcpXba66kw"
      },
      "execution_count": 14,
      "outputs": []
    },
    {
      "cell_type": "code",
      "source": [
        "# Do the prediction\n",
        "knn_predictions = knn.predict(X_test)\n",
        "\n",
        "# Count the accuracy\n",
        "accuracy = knn.score(X_test, y_test)\n",
        "print(accuracy)\n",
        "\n",
        "# Show the confusion matrix\n",
        "cm = confusion_matrix(y_test, knn_predictions)\n",
        "print(cm)"
      ],
      "metadata": {
        "colab": {
          "base_uri": "https://localhost:8080/"
        },
        "id": "tFAx9rDU6-U6",
        "outputId": "0421ac68-29f4-4b45-a3c2-a61464a60d4a"
      },
      "execution_count": 15,
      "outputs": [
        {
          "output_type": "stream",
          "name": "stdout",
          "text": [
            "0.9736842105263158\n",
            "[[13  0  0]\n",
            " [ 0 15  1]\n",
            " [ 0  0  9]]\n"
          ]
        }
      ]
    },
    {
      "cell_type": "code",
      "source": [
        "# Do the prediction for new data\n",
        "newdata = [[6.0, 3.0, 5.0, 1.0],[5.0, 2.0, 4.0, 2.0],[5.5, 3.5, 3.5, 2.5],[7.0, 4.0, 6.0, 3.0],[4.5, 4.0, 5.5, 3.0]]\n",
        "result = knn.predict(newdata)\n",
        "print(result)"
      ],
      "metadata": {
        "colab": {
          "base_uri": "https://localhost:8080/"
        },
        "id": "o-UkYulYDQeQ",
        "outputId": "b96dc37b-c4b7-4c83-d7e1-089c0a324808"
      },
      "execution_count": 16,
      "outputs": [
        {
          "output_type": "stream",
          "name": "stdout",
          "text": [
            "[1 1 1 2 2]\n"
          ]
        }
      ]
    }
  ]
}