{
  "nbformat": 4,
  "nbformat_minor": 0,
  "metadata": {
    "colab": {
      "provenance": [],
      "authorship_tag": "ABX9TyOYuIslAtn4SFZIMFbCSxPk",
      "include_colab_link": true
    },
    "kernelspec": {
      "name": "python3",
      "display_name": "Python 3"
    },
    "language_info": {
      "name": "python"
    }
  },
  "cells": [
    {
      "cell_type": "markdown",
      "metadata": {
        "id": "view-in-github",
        "colab_type": "text"
      },
      "source": [
        "<a href=\"https://colab.research.google.com/github/isnanmulia/colab-machinelearning/blob/main/ML_KNN_Iris.ipynb\" target=\"_parent\"><img src=\"https://colab.research.google.com/assets/colab-badge.svg\" alt=\"Open In Colab\"/></a>"
      ]
    },
    {
      "cell_type": "markdown",
      "source": [
        "This tutorial uses codes from these sources, with several adjustments:\n",
        "- https://www.geeksforgeeks.org/multiclass-classification-using-scikit-learn/\n"
      ],
      "metadata": {
        "id": "-HG6HsuZ6fNW"
      }
    },
    {
      "cell_type": "code",
      "execution_count": 1,
      "metadata": {
        "id": "ML1DG28G6NEx"
      },
      "outputs": [],
      "source": [
        "# Loading the libraries\n",
        "from sklearn import datasets\n",
        "from sklearn.metrics import confusion_matrix, classification_report\n",
        "from sklearn.model_selection import train_test_split\n",
        "from sklearn.neighbors import KNeighborsClassifier"
      ]
    },
    {
      "cell_type": "code",
      "source": [
        "# Loading the iris dataset\n",
        "iris = datasets.load_iris()\n",
        "\n",
        "# X -> features, y -> label\n",
        "X = iris.data\n",
        "y = iris.target\n",
        "\n",
        "# dividing X, y into train and test data\n",
        "X_train, X_test, y_train, y_test = train_test_split(X, y, random_state = 0)\n",
        "\n",
        "print(X_train.shape)\n",
        "print(y_train.shape)\n",
        "print(X_test.shape)\n",
        "print(y_test.shape)"
      ],
      "metadata": {
        "colab": {
          "base_uri": "https://localhost:8080/"
        },
        "id": "a0SekrEX6r37",
        "outputId": "06639007-b01e-4af9-85ec-43f9fdc554bc"
      },
      "execution_count": 2,
      "outputs": [
        {
          "output_type": "stream",
          "name": "stdout",
          "text": [
            "(112, 4)\n",
            "(112,)\n",
            "(38, 4)\n",
            "(38,)\n"
          ]
        }
      ]
    },
    {
      "cell_type": "code",
      "source": [
        "# Training a KNN classifier\n",
        "knn = KNeighborsClassifier().fit(X_train, y_train)"
      ],
      "metadata": {
        "id": "kvlcpXba66kw"
      },
      "execution_count": 3,
      "outputs": []
    },
    {
      "cell_type": "code",
      "source": [
        "# Do the prediction\n",
        "knn_predictions = knn.predict(X_test)\n",
        "\n",
        "# Count the accuracy\n",
        "accuracy = knn.score(X_test, y_test)\n",
        "print(accuracy)\n",
        "\n",
        "# Show the confusion matrix\n",
        "cm = confusion_matrix(y_test, knn_predictions)\n",
        "print(cm)\n",
        "\n",
        "print(classification_report(y_test, knn_predictions))"
      ],
      "metadata": {
        "colab": {
          "base_uri": "https://localhost:8080/"
        },
        "id": "tFAx9rDU6-U6",
        "outputId": "89e0e32f-c4d8-4671-8cf8-62ce2067f3bb"
      },
      "execution_count": 4,
      "outputs": [
        {
          "output_type": "stream",
          "name": "stdout",
          "text": [
            "0.9736842105263158\n",
            "[[13  0  0]\n",
            " [ 0 15  1]\n",
            " [ 0  0  9]]\n",
            "              precision    recall  f1-score   support\n",
            "\n",
            "           0       1.00      1.00      1.00        13\n",
            "           1       1.00      0.94      0.97        16\n",
            "           2       0.90      1.00      0.95         9\n",
            "\n",
            "    accuracy                           0.97        38\n",
            "   macro avg       0.97      0.98      0.97        38\n",
            "weighted avg       0.98      0.97      0.97        38\n",
            "\n"
          ]
        }
      ]
    },
    {
      "cell_type": "code",
      "source": [
        "# Do the prediction for new data\n",
        "newdata = [[6.0, 3.0, 5.0, 1.0],[5.0, 2.0, 4.0, 2.0],[5.5, 3.5, 3.5, 2.5],[7.0, 4.0, 6.0, 3.0],[4.5, 4.0, 5.5, 3.0]]\n",
        "result = knn.predict(newdata)\n",
        "print(result)"
      ],
      "metadata": {
        "colab": {
          "base_uri": "https://localhost:8080/"
        },
        "id": "o-UkYulYDQeQ",
        "outputId": "8a75d6ef-6d86-46d0-a0cf-3f63078f2b42"
      },
      "execution_count": 5,
      "outputs": [
        {
          "output_type": "stream",
          "name": "stdout",
          "text": [
            "[1 1 1 2 2]\n"
          ]
        }
      ]
    }
  ]
}