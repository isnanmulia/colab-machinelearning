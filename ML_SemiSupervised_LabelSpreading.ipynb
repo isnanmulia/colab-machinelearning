{
  "nbformat": 4,
  "nbformat_minor": 0,
  "metadata": {
    "colab": {
      "provenance": [],
      "authorship_tag": "ABX9TyNCKJYhYmPXQrn/uYzT5VeK",
      "include_colab_link": true
    },
    "kernelspec": {
      "name": "python3",
      "display_name": "Python 3"
    },
    "language_info": {
      "name": "python"
    }
  },
  "cells": [
    {
      "cell_type": "markdown",
      "metadata": {
        "id": "view-in-github",
        "colab_type": "text"
      },
      "source": [
        "<a href=\"https://colab.research.google.com/github/isnanmulia/colab-machinelearning/blob/main/ML_SemiSupervised_LabelSpreading.ipynb\" target=\"_parent\"><img src=\"https://colab.research.google.com/assets/colab-badge.svg\" alt=\"Open In Colab\"/></a>"
      ]
    },
    {
      "cell_type": "markdown",
      "source": [
        "This tutorial uses codes from these sources, with several adjustments:\n",
        "- https://sparkbyexamples.com/machine-learning/semi-supervised-learning-with-example/"
      ],
      "metadata": {
        "id": "nbPQt5505cFn"
      }
    },
    {
      "cell_type": "code",
      "execution_count": 16,
      "metadata": {
        "id": "IoLbK4a95AUs"
      },
      "outputs": [],
      "source": [
        "# Import necessary modules\n",
        "from numpy import concatenate\n",
        "from sklearn.datasets import load_iris\n",
        "from sklearn.model_selection import train_test_split\n",
        "from sklearn.semi_supervised import LabelSpreading\n",
        "from sklearn.metrics import accuracy_score, confusion_matrix"
      ]
    },
    {
      "cell_type": "code",
      "source": [
        "# Load the iris dataset\n",
        "iris = load_iris()\n",
        "\n",
        "# Split the data into labeled and unlabeled subsets\n",
        "X_labeled, X_unlabeled, y_labeled, y_unlabeled = train_test_split(iris.data, iris.target, random_state=1, test_size=0.8, stratify=iris.target)"
      ],
      "metadata": {
        "id": "ddeOqZXV5m7P"
      },
      "execution_count": 7,
      "outputs": []
    },
    {
      "cell_type": "code",
      "source": [
        "# Create the Label Spreading model\n",
        "model = LabelSpreading(kernel='knn', alpha=0.8)\n",
        "\n",
        "# Fit the model using both labeled and unlabeled data\n",
        "model.fit(X_labeled, y_labeled)"
      ],
      "metadata": {
        "colab": {
          "base_uri": "https://localhost:8080/",
          "height": 75
        },
        "id": "yiX_-JfQ5oha",
        "outputId": "db935079-fe24-4ff9-e7f6-41d86be151e1"
      },
      "execution_count": 8,
      "outputs": [
        {
          "output_type": "execute_result",
          "data": {
            "text/plain": [
              "LabelSpreading(alpha=0.8, kernel='knn')"
            ],
            "text/html": [
              "<style>#sk-container-id-2 {color: black;background-color: white;}#sk-container-id-2 pre{padding: 0;}#sk-container-id-2 div.sk-toggleable {background-color: white;}#sk-container-id-2 label.sk-toggleable__label {cursor: pointer;display: block;width: 100%;margin-bottom: 0;padding: 0.3em;box-sizing: border-box;text-align: center;}#sk-container-id-2 label.sk-toggleable__label-arrow:before {content: \"▸\";float: left;margin-right: 0.25em;color: #696969;}#sk-container-id-2 label.sk-toggleable__label-arrow:hover:before {color: black;}#sk-container-id-2 div.sk-estimator:hover label.sk-toggleable__label-arrow:before {color: black;}#sk-container-id-2 div.sk-toggleable__content {max-height: 0;max-width: 0;overflow: hidden;text-align: left;background-color: #f0f8ff;}#sk-container-id-2 div.sk-toggleable__content pre {margin: 0.2em;color: black;border-radius: 0.25em;background-color: #f0f8ff;}#sk-container-id-2 input.sk-toggleable__control:checked~div.sk-toggleable__content {max-height: 200px;max-width: 100%;overflow: auto;}#sk-container-id-2 input.sk-toggleable__control:checked~label.sk-toggleable__label-arrow:before {content: \"▾\";}#sk-container-id-2 div.sk-estimator input.sk-toggleable__control:checked~label.sk-toggleable__label {background-color: #d4ebff;}#sk-container-id-2 div.sk-label input.sk-toggleable__control:checked~label.sk-toggleable__label {background-color: #d4ebff;}#sk-container-id-2 input.sk-hidden--visually {border: 0;clip: rect(1px 1px 1px 1px);clip: rect(1px, 1px, 1px, 1px);height: 1px;margin: -1px;overflow: hidden;padding: 0;position: absolute;width: 1px;}#sk-container-id-2 div.sk-estimator {font-family: monospace;background-color: #f0f8ff;border: 1px dotted black;border-radius: 0.25em;box-sizing: border-box;margin-bottom: 0.5em;}#sk-container-id-2 div.sk-estimator:hover {background-color: #d4ebff;}#sk-container-id-2 div.sk-parallel-item::after {content: \"\";width: 100%;border-bottom: 1px solid gray;flex-grow: 1;}#sk-container-id-2 div.sk-label:hover label.sk-toggleable__label {background-color: #d4ebff;}#sk-container-id-2 div.sk-serial::before {content: \"\";position: absolute;border-left: 1px solid gray;box-sizing: border-box;top: 0;bottom: 0;left: 50%;z-index: 0;}#sk-container-id-2 div.sk-serial {display: flex;flex-direction: column;align-items: center;background-color: white;padding-right: 0.2em;padding-left: 0.2em;position: relative;}#sk-container-id-2 div.sk-item {position: relative;z-index: 1;}#sk-container-id-2 div.sk-parallel {display: flex;align-items: stretch;justify-content: center;background-color: white;position: relative;}#sk-container-id-2 div.sk-item::before, #sk-container-id-2 div.sk-parallel-item::before {content: \"\";position: absolute;border-left: 1px solid gray;box-sizing: border-box;top: 0;bottom: 0;left: 50%;z-index: -1;}#sk-container-id-2 div.sk-parallel-item {display: flex;flex-direction: column;z-index: 1;position: relative;background-color: white;}#sk-container-id-2 div.sk-parallel-item:first-child::after {align-self: flex-end;width: 50%;}#sk-container-id-2 div.sk-parallel-item:last-child::after {align-self: flex-start;width: 50%;}#sk-container-id-2 div.sk-parallel-item:only-child::after {width: 0;}#sk-container-id-2 div.sk-dashed-wrapped {border: 1px dashed gray;margin: 0 0.4em 0.5em 0.4em;box-sizing: border-box;padding-bottom: 0.4em;background-color: white;}#sk-container-id-2 div.sk-label label {font-family: monospace;font-weight: bold;display: inline-block;line-height: 1.2em;}#sk-container-id-2 div.sk-label-container {text-align: center;}#sk-container-id-2 div.sk-container {/* jupyter's `normalize.less` sets `[hidden] { display: none; }` but bootstrap.min.css set `[hidden] { display: none !important; }` so we also need the `!important` here to be able to override the default hidden behavior on the sphinx rendered scikit-learn.org. See: https://github.com/scikit-learn/scikit-learn/issues/21755 */display: inline-block !important;position: relative;}#sk-container-id-2 div.sk-text-repr-fallback {display: none;}</style><div id=\"sk-container-id-2\" class=\"sk-top-container\"><div class=\"sk-text-repr-fallback\"><pre>LabelSpreading(alpha=0.8, kernel=&#x27;knn&#x27;)</pre><b>In a Jupyter environment, please rerun this cell to show the HTML representation or trust the notebook. <br />On GitHub, the HTML representation is unable to render, please try loading this page with nbviewer.org.</b></div><div class=\"sk-container\" hidden><div class=\"sk-item\"><div class=\"sk-estimator sk-toggleable\"><input class=\"sk-toggleable__control sk-hidden--visually\" id=\"sk-estimator-id-2\" type=\"checkbox\" checked><label for=\"sk-estimator-id-2\" class=\"sk-toggleable__label sk-toggleable__label-arrow\">LabelSpreading</label><div class=\"sk-toggleable__content\"><pre>LabelSpreading(alpha=0.8, kernel=&#x27;knn&#x27;)</pre></div></div></div></div></div>"
            ]
          },
          "metadata": {},
          "execution_count": 8
        }
      ]
    },
    {
      "cell_type": "code",
      "source": [
        "# Predict labels for the unlabeled data\n",
        "y_pred = model.predict(X_unlabeled)\n",
        "\n",
        "# Compute the accuracy of the model\n",
        "accuracy = accuracy_score(y_unlabeled, y_pred)\n",
        "print('Accuracy:', accuracy)\n",
        "# confusion matrix\n",
        "cm = confusion_matrix(y_unlabeled, y_pred)\n",
        "print(cm)"
      ],
      "metadata": {
        "colab": {
          "base_uri": "https://localhost:8080/"
        },
        "id": "kXBeu1Q_5xAG",
        "outputId": "5339c550-ae38-4367-f8e4-0e4a95eaed45"
      },
      "execution_count": 19,
      "outputs": [
        {
          "output_type": "stream",
          "name": "stdout",
          "text": [
            "Accuracy: 0.9416666666666667\n",
            "[[40  0  0]\n",
            " [ 0 35  5]\n",
            " [ 0  2 38]]\n"
          ]
        }
      ]
    },
    {
      "cell_type": "code",
      "source": [
        "# Define dataset (just like on LabelPropagation)\n",
        "# split into train and test\n",
        "X_train, X_test, y_train, y_test = train_test_split(iris.data, iris.target, test_size=0.50, random_state=1, stratify=iris.target)\n",
        "# split train into labeled and unlabeled\n",
        "X_train_lab, X_test_unlab, y_train_lab, y_test_unlab = train_test_split(X_train, y_train, test_size=0.50, random_state=1, stratify=y_train)\n",
        "# summarize training set size\n",
        "print('Labeled Train Set:', X_train_lab.shape, y_train_lab.shape)\n",
        "print('Unlabeled Train Set:', X_test_unlab.shape, y_test_unlab.shape)\n",
        "# summarize test set size\n",
        "print('Test Set:', X_test.shape, y_test.shape)"
      ],
      "metadata": {
        "colab": {
          "base_uri": "https://localhost:8080/"
        },
        "id": "DwexQo7f6YgR",
        "outputId": "2f730b50-851f-4b69-a07c-4eff82057e7e"
      },
      "execution_count": 10,
      "outputs": [
        {
          "output_type": "stream",
          "name": "stdout",
          "text": [
            "Labeled Train Set: (37, 4) (37,)\n",
            "Unlabeled Train Set: (38, 4) (38,)\n",
            "Test Set: (75, 4) (75,)\n"
          ]
        }
      ]
    },
    {
      "cell_type": "code",
      "source": [
        "# Label Propagation\n",
        "\n",
        "# Prepare the data\n",
        "# create the training dataset input\n",
        "X_train_mixed = concatenate((X_train_lab, X_test_unlab))\n",
        "# create \"no label\" for unlabeled data\n",
        "nolabel = [-1 for _ in range(len(y_test_unlab))]\n",
        "# recombine training dataset labels\n",
        "y_train_mixed = concatenate((y_train_lab, nolabel))\n",
        "\n",
        "# define model\n",
        "LabelSpreading(kernel='knn', alpha=0.8)\n",
        "# fit model on training dataset\n",
        "model.fit(X_train_mixed, y_train_mixed)\n",
        "\n",
        "print(y_train_mixed)\n",
        "print(model.transduction_)"
      ],
      "metadata": {
        "colab": {
          "base_uri": "https://localhost:8080/"
        },
        "id": "uBVsHrbuYz7t",
        "outputId": "444d6ed0-499a-419c-93d3-9d8a53a51d7e"
      },
      "execution_count": 14,
      "outputs": [
        {
          "output_type": "stream",
          "name": "stdout",
          "text": [
            "[ 1  1  1  1  2  1  1  0  2  0  0  0  2  2  1  2  1  0  2  1  2  2  0  2\n",
            "  2  1  2  0  0  0  0  0  1  2  1  0  0 -1 -1 -1 -1 -1 -1 -1 -1 -1 -1 -1\n",
            " -1 -1 -1 -1 -1 -1 -1 -1 -1 -1 -1 -1 -1 -1 -1 -1 -1 -1 -1 -1 -1 -1 -1 -1\n",
            " -1 -1 -1]\n",
            "[1 1 1 1 2 1 1 0 2 0 0 0 2 2 1 2 1 0 2 1 2 2 0 2 2 1 2 0 0 0 0 0 1 2 1 0 0\n",
            " 1 2 1 2 0 2 2 1 0 2 1 1 2 0 0 0 0 0 2 1 2 2 2 1 1 0 1 0 1 2 1 2 0 0 2 1 1\n",
            " 0]\n"
          ]
        }
      ]
    },
    {
      "cell_type": "code",
      "source": [
        "# make predictions on hold out test set\n",
        "yhat = model.predict(X_test)\n",
        "# calculate score for test set\n",
        "score = accuracy_score(y_test, yhat)\n",
        "# summarize score\n",
        "print('Accuracy: %.3f' % (score*100))\n",
        "# confusion matrix\n",
        "cm = confusion_matrix(y_test, yhat)\n",
        "print(cm)"
      ],
      "metadata": {
        "colab": {
          "base_uri": "https://localhost:8080/"
        },
        "id": "YasT7qK9ZIqM",
        "outputId": "80066f3e-6806-4e5b-e30f-025f16f7f6bd"
      },
      "execution_count": 20,
      "outputs": [
        {
          "output_type": "stream",
          "name": "stdout",
          "text": [
            "Accuracy: 96.000\n",
            "[[25  0  0]\n",
            " [ 0 23  2]\n",
            " [ 0  1 24]]\n"
          ]
        }
      ]
    }
  ]
}